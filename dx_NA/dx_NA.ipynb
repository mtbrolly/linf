{
 "cells": [
  {
   "cell_type": "markdown",
   "id": "09c71888-a847-4ef4-b6d0-ce2d5cda0024",
   "metadata": {},
   "source": [
    "# Variational inference for a mixture density network model of a single-particle transition density"
   ]
  },
  {
   "cell_type": "code",
   "execution_count": 1,
   "id": "cbfeedd7-240c-4c80-8bf5-460f4f0526a4",
   "metadata": {},
   "outputs": [],
   "source": [
    "import numpy as np\n",
    "import tensorflow as tf\n",
    "import tensorflow_probability as tfp\n",
    "import os\n",
    "os.chdir(\"/home/s1511699/git/linf\")\n",
    "from tools.preprocessing import Scaler\n",
    "tfd = tfp.distributions\n",
    "tfpl = tfp.layers\n",
    "tfkl = tf.keras.layers"
   ]
  },
  {
   "cell_type": "code",
   "execution_count": 2,
   "id": "bc63a872-1675-43bc-98a2-a66c5dc1d457",
   "metadata": {},
   "outputs": [],
   "source": [
    "import matplotlib.pyplot as plt\n",
    "import cartopy\n",
    "ccrs = cartopy.crs\n",
    "import matplotlib.colors as colors\n",
    "from cmocean import cm as cmo\n",
    "import tools.grids as grids"
   ]
  },
  {
   "cell_type": "code",
   "execution_count": 13,
   "id": "ba92e105-9fd1-4646-a24b-a597216c0c55",
   "metadata": {},
   "outputs": [],
   "source": [
    "plt.style.use('./misc/experiments.mplstyle')\n",
    "model_fdir = (\"./NA/vi_dx_2507/\")"
   ]
  },
  {
   "cell_type": "markdown",
   "id": "54a334ca-2091-4295-ac6d-b03a859f9ecc",
   "metadata": {},
   "source": [
    "### Getting drifter data"
   ]
  },
  {
   "cell_type": "code",
   "execution_count": 5,
   "id": "0474fc05-77a4-4cb8-ab01-c64700785b08",
   "metadata": {},
   "outputs": [],
   "source": [
    "BATCH_SIZE = 8192\n",
    "\n",
    "data_dir = \"/home/s1511699/git/linf/data/dx/\"\n",
    "\n",
    "X = np.load(data_dir + \"X0_train.npy\")\n",
    "XVAL = np.load(data_dir + \"X0_test.npy\")\n",
    "Y = np.load(data_dir + \"DX_train.npy\")\n",
    "YVAL = np.load(data_dir + \"DX_test.npy\")\n",
    "\n",
    "# Reorder data from (lat, lon) to (lon, lat) and deal with displacements\n",
    "# which cross the dateline.\n",
    "Xsets = [X, XVAL]\n",
    "Ysets = [Y, YVAL]\n",
    "\n",
    "for i, x in enumerate(Xsets):\n",
    "    temp = x[:, 1].copy()\n",
    "    x[:, 1] = x[:, 0]\n",
    "    x[:, 0] = temp\n",
    "    del temp, x\n",
    "\n",
    "for i, y in enumerate(Ysets):\n",
    "    temp = y[:, 1].copy()\n",
    "    y[:, 1] = y[:, 0]\n",
    "    y[:, 0] = temp\n",
    "    del temp\n",
    "    y[:, 0] += (y[:, 0] < -270.) * 360. + (y[:, 0] > 270.) * (-360.)"
   ]
  },
  {
   "cell_type": "code",
   "execution_count": null,
   "id": "6f401c53-9407-496c-9e9e-242b6613778f",
   "metadata": {
    "jupyter": {
     "source_hidden": true
    },
    "tags": []
   },
   "outputs": [],
   "source": [
    "print(X.shape, Y.shape)"
   ]
  },
  {
   "cell_type": "code",
   "execution_count": null,
   "id": "2cd6fb2b-38c0-44d5-8273-52c352b523a4",
   "metadata": {
    "jupyter": {
     "source_hidden": true
    },
    "tags": []
   },
   "outputs": [],
   "source": [
    "plt.figure()\n",
    "plt.hist2d(X[::100, 0], X[::100, 1], bins=70, cmap='Reds')\n",
    "plt.colorbar()\n",
    "plt.show()"
   ]
  },
  {
   "cell_type": "code",
   "execution_count": 6,
   "id": "9e5ad4c8-f935-4940-9c88-6bb5ea22ecab",
   "metadata": {},
   "outputs": [],
   "source": [
    "NAB = np.array([[-98.0539, 12.0059], [-0.936, 68.6387]])\n",
    "IB = (X[:, 0] > NAB[0, 0]) * (X[:, 0] < NAB[0, 1]) * (X[:, 1] > NAB[1, 0]) * (X[:, 1] < NAB[1, 1])\n",
    "X = X[IB, :]\n",
    "Y = Y[IB, :]\n",
    "IBV = (XVAL[:, 0] > NAB[0, 0]) * (XVAL[:, 0] < NAB[0, 1]) * (XVAL[:, 1] > NAB[1, 0]) * (XVAL[:, 1] < NAB[1, 1])\n",
    "XVAL = XVAL[IBV, :]\n",
    "YVAL = YVAL[IBV, :]"
   ]
  },
  {
   "cell_type": "code",
   "execution_count": 7,
   "id": "341104bd-8dee-4e20-91bc-cbdf36c69d26",
   "metadata": {},
   "outputs": [],
   "source": [
    "# Shuffle all data.\n",
    "rng = np.random.default_rng(seed=1)\n",
    "rng.shuffle(X)\n",
    "rng = np.random.default_rng(seed=1)\n",
    "rng.shuffle(XVAL)\n",
    "rng = np.random.default_rng(seed=1)\n",
    "rng.shuffle(Y)\n",
    "rng = np.random.default_rng(seed=1)\n",
    "rng.shuffle(YVAL)\n",
    "\n",
    "# Truncate data to be divisible by batch_size / train_size.\n",
    "N = int(min(X.shape[0], XVAL.shape[0]) // BATCH_SIZE) * BATCH_SIZE\n",
    "X = X[:N, :]\n",
    "XVAL = XVAL[:N, :]\n",
    "Y = Y[:N, :]\n",
    "YVAL = YVAL[:N, :]\n",
    "\n",
    "# Standardise data.\n",
    "Xscaler = Scaler(X)\n",
    "X_ = Xscaler.standardise(X)\n",
    "X_VAL = Xscaler.standardise(XVAL)\n",
    "Yscaler = Scaler(Y)\n",
    "Y_ = Yscaler.standardise(Y)\n",
    "Y_VAL = Yscaler.standardise(YVAL)"
   ]
  },
  {
   "cell_type": "code",
   "execution_count": null,
   "id": "1175c473-1b25-45d7-8e92-9993e5f87063",
   "metadata": {
    "jupyter": {
     "source_hidden": true
    },
    "tags": []
   },
   "outputs": [],
   "source": [
    "print(X.shape, Y.shape)"
   ]
  },
  {
   "cell_type": "code",
   "execution_count": null,
   "id": "53e6f43e-e4cd-4286-b3f7-fc84d5571b61",
   "metadata": {
    "jupyter": {
     "source_hidden": true
    },
    "tags": []
   },
   "outputs": [],
   "source": [
    "plt.figure()\n",
    "plt.hist2d(X[:, 0], X[:, 1], bins=60, cmap='Reds')\n",
    "plt.colorbar()\n",
    "plt.show()"
   ]
  },
  {
   "cell_type": "markdown",
   "id": "4fd11410-b012-47d1-b419-653ffa18e9cb",
   "metadata": {},
   "source": [
    "### Building probabilistic model"
   ]
  },
  {
   "cell_type": "code",
   "execution_count": 8,
   "id": "043281f0-310d-42d7-9a79-a52128fed7ed",
   "metadata": {},
   "outputs": [],
   "source": [
    "def prior(kernel_size, bias_size, dtype=None):\n",
    "  n = kernel_size + bias_size\n",
    "  return lambda t: tfd.Independent(tfd.Normal(loc=tf.zeros(n, dtype=dtype), scale=1),\n",
    "          reinterpreted_batch_ndims=1)"
   ]
  },
  {
   "cell_type": "code",
   "execution_count": 9,
   "id": "98626f65-e243-45fd-a349-2164bb4ff547",
   "metadata": {},
   "outputs": [],
   "source": [
    "def posterior(kernel_size, bias_size, dtype=None):\n",
    "  n = kernel_size + bias_size\n",
    "  return tf.keras.Sequential([\n",
    "      tfpl.VariableLayer(tfpl.IndependentNormal.params_size(n), dtype=dtype),\n",
    "      tfpl.IndependentNormal(n)])"
   ]
  },
  {
   "cell_type": "code",
   "execution_count": 23,
   "id": "8dedc241-964f-43e0-9745-f701c97f5e94",
   "metadata": {},
   "outputs": [],
   "source": [
    "NC = 24\n",
    "\n",
    "model = tf.keras.Sequential([\n",
    "    tfkl.Dense(256, activation='relu'),\n",
    "    tfkl.Dense(256, activation='relu'),\n",
    "    tfkl.Dense(256, activation='relu'),\n",
    "    tfkl.Dense(256, activation='relu'),\n",
    "    tfkl.Dense(512, activation='relu'),\n",
    "    # tfkl.Dense(512, activation='relu'),\n",
    "    tfpl.DenseVariational(512, posterior, prior, kl_weight=1 / X.shape[0], kl_use_exact=True),\n",
    "    tfpl.DenseVariational(6 * NC, posterior, prior, kl_weight=1 / X.shape[0], kl_use_exact=True),\n",
    "    tfpl.MixtureSameFamily(NC, tfp.layers.MultivariateNormalTriL(2))])"
   ]
  },
  {
   "cell_type": "code",
   "execution_count": 24,
   "id": "7582e097-b4e4-4672-9f29-e7a889be13ed",
   "metadata": {
    "tags": []
   },
   "outputs": [],
   "source": [
    "def negloglik(y, rv_y): return -rv_y.log_prob(y)\n",
    "LOSS = negloglik\n",
    "# METRICS = [negloglik, ]\n",
    "LEARNING_RATE = 5e-6\n",
    "OPTIMISER = tf.keras.optimizers.Adam(learning_rate=LEARNING_RATE)\n",
    "EPOCHS = 20\n",
    "\n",
    "model.compile(loss=LOSS, optimizer=OPTIMISER)"
   ]
  },
  {
   "cell_type": "code",
   "execution_count": 25,
   "id": "9f499dfe-6a7a-4d2a-872d-cee2b6da7856",
   "metadata": {
    "tags": []
   },
   "outputs": [
    {
     "name": "stdout",
     "output_type": "stream",
     "text": [
      "Epoch 1/20\n",
      "287/287 [==============================] - 133s 460ms/step - loss: 19.8491 - val_loss: 20.4591\n",
      "Epoch 2/20\n",
      "287/287 [==============================] - 131s 458ms/step - loss: 21.4078 - val_loss: 23.8852\n",
      "Epoch 3/20\n",
      "287/287 [==============================] - 126s 438ms/step - loss: 21.2375 - val_loss: 23.0873\n",
      "Epoch 4/20\n",
      "287/287 [==============================] - 128s 445ms/step - loss: 20.2885 - val_loss: 20.1546\n",
      "Epoch 5/20\n",
      "287/287 [==============================] - 108s 377ms/step - loss: 20.6747 - val_loss: 19.8105\n",
      "Epoch 6/20\n",
      "287/287 [==============================] - 107s 372ms/step - loss: 19.6232 - val_loss: 19.9623\n",
      "Epoch 7/20\n",
      "287/287 [==============================] - 106s 371ms/step - loss: 19.8910 - val_loss: 20.1753\n",
      "Epoch 8/20\n",
      "287/287 [==============================] - 107s 374ms/step - loss: 21.9306 - val_loss: 20.6405\n",
      "Epoch 9/20\n",
      "287/287 [==============================] - 107s 372ms/step - loss: 20.7984 - val_loss: 19.7233\n",
      "Epoch 10/20\n",
      "287/287 [==============================] - 107s 372ms/step - loss: 19.2752 - val_loss: 18.9258\n",
      "Epoch 11/20\n",
      "287/287 [==============================] - 107s 372ms/step - loss: 21.4234 - val_loss: 26.6565\n",
      "Epoch 12/20\n",
      "287/287 [==============================] - 105s 367ms/step - loss: 20.7918 - val_loss: 21.4157\n",
      "Epoch 13/20\n",
      "287/287 [==============================] - 104s 364ms/step - loss: 19.4136 - val_loss: 20.0917\n",
      "Epoch 14/20\n",
      "287/287 [==============================] - 105s 367ms/step - loss: 19.5474 - val_loss: 19.7830\n",
      "Epoch 15/20\n",
      "287/287 [==============================] - 105s 367ms/step - loss: 19.9512 - val_loss: 19.3773\n",
      "Epoch 16/20\n",
      "287/287 [==============================] - 105s 366ms/step - loss: 26.7510 - val_loss: 20.3592\n",
      "Epoch 17/20\n",
      "287/287 [==============================] - 105s 366ms/step - loss: 22.6241 - val_loss: 20.4209\n",
      "Epoch 18/20\n",
      "287/287 [==============================] - 105s 367ms/step - loss: 19.7730 - val_loss: 103.1336\n",
      "Epoch 19/20\n",
      "287/287 [==============================] - 105s 366ms/step - loss: 19.7349 - val_loss: 18.8298\n",
      "Epoch 20/20\n",
      "287/287 [==============================] - 106s 368ms/step - loss: 19.6416 - val_loss: 20.7653\n"
     ]
    }
   ],
   "source": [
    "History = model.fit(X_, Y_, epochs=EPOCHS, batch_size=BATCH_SIZE,\n",
    "                    validation_data=(X_VAL, Y_VAL), verbose=1)"
   ]
  },
  {
   "cell_type": "code",
   "execution_count": null,
   "id": "c2ff76a8-a14c-4db5-8bad-9567812bdf6b",
   "metadata": {
    "tags": []
   },
   "outputs": [],
   "source": [
    "model.save_weights(model_dir + \"weights\")"
   ]
  },
  {
   "cell_type": "code",
   "execution_count": null,
   "id": "0e6c605f-91a7-4341-9e5c-41ab24c81d27",
   "metadata": {},
   "outputs": [],
   "source": [
    "model.load_weights(\"NA/DV2/weights\")"
   ]
  },
  {
   "cell_type": "code",
   "execution_count": null,
   "id": "4cf0f249-0b29-4800-b8ca-ee51dcb741b4",
   "metadata": {},
   "outputs": [],
   "source": [
    "model(X_[:BATCH_SIZE, ...])"
   ]
  },
  {
   "cell_type": "code",
   "execution_count": null,
   "id": "ff21a0c6-6fc6-44c8-b2ec-56fd90f7d662",
   "metadata": {},
   "outputs": [],
   "source": [
    "model.layers[-1].weights"
   ]
  },
  {
   "cell_type": "code",
   "execution_count": null,
   "id": "983974cb-3fdb-43f8-a90a-5034d7f3b4c5",
   "metadata": {},
   "outputs": [],
   "source": [
    "model.summary()"
   ]
  },
  {
   "cell_type": "markdown",
   "id": "80de646c-1be4-45d8-922b-df6ab253096a",
   "metadata": {},
   "source": [
    "### Results"
   ]
  },
  {
   "cell_type": "code",
   "execution_count": null,
   "id": "392960a7-c349-4de6-9eae-b46bd80fe33d",
   "metadata": {},
   "outputs": [],
   "source": [
    "plt.figure()\n",
    "plt.plot(History.history['loss'], 'k')\n",
    "plt.plot(History.history['val_loss'], 'r')\n",
    "plt.show()"
   ]
  },
  {
   "cell_type": "code",
   "execution_count": null,
   "id": "4469e2c7-2207-476a-9ae0-df23264a2563",
   "metadata": {
    "tags": []
   },
   "outputs": [],
   "source": [
    "res = 4.  # Grid points per degree\n",
    "grid = grids.LonlatGrid(xlims=NAB[0], ylims=NAB[1], n_x=110 * res, n_y=70 * res)\n",
    "\n",
    "means = []\n",
    "covs = []\n",
    "for i in range(10):\n",
    "    gms_ = grid.eval_on_grid(model, scaler=Xscaler.standardise)\n",
    "    means.append(Yscaler.invert_standardisation_loc(gms_.mean())[None, ...])\n",
    "    covs.append(Yscaler.invert_standardisation_cov(gms_.covariance())[None, ...])"
   ]
  },
  {
   "cell_type": "code",
   "execution_count": null,
   "id": "13aae2b6-df48-4881-b40f-bd5b4a405fa8",
   "metadata": {
    "tags": []
   },
   "outputs": [],
   "source": [
    "means = tf.concat(means, axis=0)\n",
    "covs = tf.concat(covs, axis=0)"
   ]
  },
  {
   "cell_type": "code",
   "execution_count": null,
   "id": "8d5d5ad8-c518-4f3f-8248-09b33194a35d",
   "metadata": {},
   "outputs": [],
   "source": [
    "mean_of_mean = tf.math.reduce_mean(means, axis=0).numpy().reshape(\n",
    "                grid.centres.shape[:-1] + (2,))[..., 0]\n",
    "mean_of_cov = tf.math.reduce_mean(covs, axis=0).numpy().reshape(\n",
    "                grid.centres.shape[:-1] + (2, 2))[..., 0, 0]\n",
    "std_of_mean = tf.math.reduce_std(means, axis=0).numpy().reshape(\n",
    "                grid.centres.shape[:-1] + (2,))[..., 0]\n",
    "std_of_cov = tf.math.reduce_std(covs, axis=0).numpy().reshape(\n",
    "                grid.centres.shape[:-1] + (2, 2))[..., 0, 0]"
   ]
  },
  {
   "cell_type": "code",
   "execution_count": null,
   "id": "82ac42db-7f04-40bf-82a7-127af8053e44",
   "metadata": {},
   "outputs": [],
   "source": [
    "plt.figure(figsize=(12, 6))\n",
    "ax = plt.axes(projection=ccrs.Robinson())\n",
    "ax.gridlines(draw_labels=True, dms=True,\n",
    "             x_inline=False, y_inline=False, zorder=11)\n",
    "sca = plt.pcolormesh(grid.vertices[..., 0], grid.vertices[..., 1],\n",
    "                     mean_of_mean,\n",
    "                     cmap=cmo.delta,\n",
    "                     shading='flat',\n",
    "                     norm=colors.CenteredNorm(halfrange=1.5),\n",
    "                     transform=ccrs.PlateCarree())\n",
    "plt.colorbar(sca)\n",
    "ax.add_feature(cartopy.feature.LAND, zorder=10, edgecolor='k',\n",
    "               facecolor='darkgrey',\n",
    "               linewidth=0.3)\n",
    "plt.tight_layout()\n",
    "plt.savefig(\"NA/DV2/mean_mDX.png\", dpi=288)\n",
    "plt.show()"
   ]
  },
  {
   "cell_type": "code",
   "execution_count": null,
   "id": "9ecef041-251e-4691-b9d5-fed5ccfc39e7",
   "metadata": {},
   "outputs": [],
   "source": [
    "plt.figure(figsize=(12, 6))\n",
    "ax = plt.axes(projection=ccrs.PlateCarree())\n",
    "ax.gridlines(draw_labels=True, dms=True,\n",
    "             x_inline=False, y_inline=False, zorder=11)\n",
    "sca = plt.pcolormesh(grid.vertices[..., 0], grid.vertices[..., 1],\n",
    "                     mean_of_cov,\n",
    "                     cmap=cmo.amp,\n",
    "                     shading='flat',\n",
    "                     transform=ccrs.PlateCarree())\n",
    "plt.colorbar(sca)\n",
    "ax.add_feature(cartopy.feature.LAND, zorder=10, edgecolor='k',\n",
    "               facecolor='darkgrey',\n",
    "               linewidth=0.3)\n",
    "plt.tight_layout()\n",
    "plt.savefig(\"NA/DV2/mean_covDX.png\", dpi=288)\n",
    "plt.show()"
   ]
  },
  {
   "cell_type": "code",
   "execution_count": null,
   "id": "4d315c86-3051-4828-ac1c-73e7c7697380",
   "metadata": {},
   "outputs": [],
   "source": [
    "plt.figure(figsize=(12, 6))\n",
    "ax = plt.axes(projection=ccrs.PlateCarree())\n",
    "ax.gridlines(draw_labels=True, dms=True,\n",
    "             x_inline=False, y_inline=False, zorder=11)\n",
    "sca = plt.pcolormesh(grid.vertices[..., 0], grid.vertices[..., 1],\n",
    "                     std_of_mean / np.abs(mean_of_mean),\n",
    "                     cmap=cmo.amp, vmin=0., vmax=4.,\n",
    "                     shading='flat',\n",
    "                     transform=ccrs.PlateCarree())\n",
    "plt.colorbar(sca)\n",
    "ax.add_feature(cartopy.feature.LAND, zorder=10, edgecolor='k',\n",
    "               facecolor='darkgrey',\n",
    "               linewidth=0.3)\n",
    "plt.tight_layout()\n",
    "plt.savefig(\"NA/DV2/std_mDX.png\", dpi=288)\n",
    "plt.show()"
   ]
  },
  {
   "cell_type": "code",
   "execution_count": null,
   "id": "aba01ccc-8a96-43a5-9fb1-e6e9b210078c",
   "metadata": {},
   "outputs": [],
   "source": [
    "plt.figure(figsize=(12, 6))\n",
    "ax = plt.axes(projection=ccrs.PlateCarree())\n",
    "ax.gridlines(draw_labels=True, dms=True,\n",
    "             x_inline=False, y_inline=False, zorder=11)\n",
    "sca = plt.pcolormesh(grid.vertices[..., 0], grid.vertices[..., 1],\n",
    "                     np.abs(mean_of_mean) < 0.01,\n",
    "                     cmap=cmo.amp, vmin=0.,  # vmax=4.,\n",
    "                     shading='flat',\n",
    "                     transform=ccrs.PlateCarree())\n",
    "plt.colorbar(sca)\n",
    "ax.add_feature(cartopy.feature.LAND, zorder=10, edgecolor='k',\n",
    "               facecolor='darkgrey',\n",
    "               linewidth=0.3)\n",
    "plt.tight_layout()\n",
    "# plt.savefig(\"NA/DV2/std_mDX.png\", dpi=288)\n",
    "plt.show()"
   ]
  },
  {
   "cell_type": "code",
   "execution_count": null,
   "id": "06b18faa-9d13-4966-bd17-e8c10a7e04bd",
   "metadata": {},
   "outputs": [],
   "source": [
    "plt.figure(figsize=(12, 6))\n",
    "ax = plt.axes(projection=ccrs.PlateCarree())\n",
    "ax.gridlines(draw_labels=True, dms=True,\n",
    "             x_inline=False, y_inline=False, zorder=11)\n",
    "sca = plt.pcolormesh(grid.vertices[..., 0], grid.vertices[..., 1],\n",
    "                     std_of_cov / mean_of_cov,\n",
    "                     cmap=cmo.amp, vmin=0., vmax=0.25,\n",
    "                     shading='flat',\n",
    "                     transform=ccrs.PlateCarree())\n",
    "plt.colorbar(sca)\n",
    "ax.add_feature(cartopy.feature.LAND, zorder=10, edgecolor='k',\n",
    "               facecolor='darkgrey',\n",
    "               linewidth=0.3)\n",
    "plt.tight_layout()\n",
    "plt.savefig(\"NA/DV2/stdcovDX.png\", dpi=288)\n",
    "plt.show()"
   ]
  }
 ],
 "metadata": {
  "kernelspec": {
   "display_name": "ml",
   "language": "python",
   "name": "ml"
  },
  "language_info": {
   "codemirror_mode": {
    "name": "ipython",
    "version": 3
   },
   "file_extension": ".py",
   "mimetype": "text/x-python",
   "name": "python",
   "nbconvert_exporter": "python",
   "pygments_lexer": "ipython3",
   "version": "3.9.13"
  }
 },
 "nbformat": 4,
 "nbformat_minor": 5
}
